{
 "cells": [
  {
   "cell_type": "markdown",
   "metadata": {
    "id": "64TpG_15PjGm"
   },
   "source": [
    "# Lesson 1"
   ]
  },
  {
   "cell_type": "markdown",
   "metadata": {
    "id": "LNDnKcO7P284"
   },
   "source": [
    "## Library loading"
   ]
  },
  {
   "cell_type": "code",
   "execution_count": 1,
   "metadata": {
    "id": "izr9tAHQP2h7"
   },
   "outputs": [],
   "source": [
    "import pandas as pd\n",
    "import numpy as np\n",
    "pd.set_option('display.max_columns', None)\n",
    "import warnings\n",
    "warnings.filterwarnings('ignore')\n",
    "import matplotlib.pyplot as plt\n",
    "import seaborn as sns "
   ]
  },
  {
   "cell_type": "code",
   "execution_count": null,
   "metadata": {
    "colab": {
     "base_uri": "https://localhost:8080/"
    },
    "id": "QBd4t_WZQFX6",
    "outputId": "c3e01e80-5c9b-41bd-9778-80388daf75ef"
   },
   "outputs": [
    {
     "name": "stdout",
     "output_type": "stream",
     "text": [
      "Mounted at /content/drive\n"
     ]
    }
   ],
   "source": [
    "from google.colab import drive\n",
    "drive.mount('/content/drive')"
   ]
  },
  {
   "cell_type": "markdown",
   "metadata": {
    "id": "hzBYTyyoPl_1"
   },
   "source": [
    "## Feature selection based on variance."
   ]
  },
  {
   "cell_type": "markdown",
   "metadata": {
    "id": "jU96htOiPrQ6"
   },
   "source": [
    "Here we will use variance threshold to remove some features that very low variance, ie those columns have almost the same values in all the rows. Hence such features do not explain anything about the target variable "
   ]
  },
  {
   "cell_type": "code",
   "execution_count": 2,
   "metadata": {
    "id": "ytiTvb5vPh99"
   },
   "outputs": [],
   "source": [
    "numerical = pd.read_csv('numerical.csv')\n",
    "categorical = pd.read_csv('categorical.csv')\n",
    "targets = pd.read_csv('target.csv')"
   ]
  },
  {
   "cell_type": "code",
   "execution_count": 3,
   "metadata": {
    "id": "97pI46QAQv1n"
   },
   "outputs": [],
   "source": [
    "from sklearn.feature_selection import VarianceThreshold"
   ]
  },
  {
   "cell_type": "markdown",
   "metadata": {
    "id": "rPVXHU7jSDoU"
   },
   "source": [
    "Remember the definition of the variance:\n",
    "\n",
    "$\\sigma_{col}^{2}=\\frac{1}{n}\\sum_{i=1}^{n}(x_{i}-\\bar{X})^2$"
   ]
  },
  {
   "cell_type": "code",
   "execution_count": 4,
   "metadata": {
    "colab": {
     "base_uri": "https://localhost:8080/"
    },
    "id": "CeARS2M9QzFQ",
    "outputId": "15eca412-af3c-40ca-f333-8a0f54aa5814"
   },
   "outputs": [
    {
     "name": "stdout",
     "output_type": "stream",
     "text": [
      "(95412, 315)\n",
      "(95412, 305)\n"
     ]
    }
   ],
   "source": [
    "sel = VarianceThreshold(threshold=(.9))\n",
    "temp = sel.fit_transform(numerical)\n",
    "temp = pd.DataFrame(temp)\n",
    "print(numerical.shape)\n",
    "print(temp.shape)"
   ]
  },
  {
   "cell_type": "markdown",
   "metadata": {
    "id": "-mgTmct2Sw6u"
   },
   "source": [
    "As it can be clearly seen, the VarianceThreshold method reduces the size of the dataframe droping those columns for which the variance is smaller than 0.9.\n",
    "\n",
    "To check which columns were removed we can do:"
   ]
  },
  {
   "cell_type": "code",
   "execution_count": 5,
   "metadata": {
    "colab": {
     "base_uri": "https://localhost:8080/"
    },
    "id": "wiLHCBwaU01n",
    "outputId": "4e821435-3d34-4ef5-9361-66f777159645"
   },
   "outputs": [
    {
     "data": {
      "text/plain": [
       "[True,\n",
       " True,\n",
       " True,\n",
       " True,\n",
       " True,\n",
       " True,\n",
       " True,\n",
       " True,\n",
       " True,\n",
       " True,\n",
       " True,\n",
       " True,\n",
       " True,\n",
       " True,\n",
       " True,\n",
       " True,\n",
       " True,\n",
       " True,\n",
       " True,\n",
       " True,\n",
       " True,\n",
       " True,\n",
       " True,\n",
       " True,\n",
       " True,\n",
       " True,\n",
       " False,\n",
       " True,\n",
       " True,\n",
       " True,\n",
       " True,\n",
       " True,\n",
       " True,\n",
       " True,\n",
       " True,\n",
       " True,\n",
       " True,\n",
       " True,\n",
       " True,\n",
       " True,\n",
       " True,\n",
       " True,\n",
       " True,\n",
       " True,\n",
       " True,\n",
       " True,\n",
       " True,\n",
       " True,\n",
       " True,\n",
       " True,\n",
       " True,\n",
       " True,\n",
       " True,\n",
       " True,\n",
       " True,\n",
       " True,\n",
       " True,\n",
       " True,\n",
       " True,\n",
       " True,\n",
       " True,\n",
       " True,\n",
       " True,\n",
       " True,\n",
       " True,\n",
       " True,\n",
       " True,\n",
       " True,\n",
       " True,\n",
       " True,\n",
       " True,\n",
       " True,\n",
       " True,\n",
       " True,\n",
       " True,\n",
       " True,\n",
       " True,\n",
       " True,\n",
       " True,\n",
       " True,\n",
       " True,\n",
       " True,\n",
       " True,\n",
       " True,\n",
       " True,\n",
       " True,\n",
       " True,\n",
       " True,\n",
       " True,\n",
       " True,\n",
       " True,\n",
       " True,\n",
       " True,\n",
       " True,\n",
       " True,\n",
       " True,\n",
       " True,\n",
       " True,\n",
       " True,\n",
       " True,\n",
       " True,\n",
       " True,\n",
       " True,\n",
       " True,\n",
       " True,\n",
       " True,\n",
       " True,\n",
       " True,\n",
       " True,\n",
       " True,\n",
       " True,\n",
       " True,\n",
       " True,\n",
       " True,\n",
       " True,\n",
       " True,\n",
       " True,\n",
       " True,\n",
       " True,\n",
       " True,\n",
       " True,\n",
       " True,\n",
       " True,\n",
       " True,\n",
       " True,\n",
       " True,\n",
       " True,\n",
       " True,\n",
       " True,\n",
       " True,\n",
       " True,\n",
       " True,\n",
       " True,\n",
       " True,\n",
       " True,\n",
       " True,\n",
       " True,\n",
       " True,\n",
       " True,\n",
       " True,\n",
       " True,\n",
       " True,\n",
       " True,\n",
       " True,\n",
       " True,\n",
       " True,\n",
       " True,\n",
       " True,\n",
       " True,\n",
       " True,\n",
       " True,\n",
       " True,\n",
       " True,\n",
       " True,\n",
       " True,\n",
       " True,\n",
       " True,\n",
       " True,\n",
       " True,\n",
       " True,\n",
       " True,\n",
       " True,\n",
       " True,\n",
       " True,\n",
       " True,\n",
       " True,\n",
       " True,\n",
       " True,\n",
       " True,\n",
       " True,\n",
       " True,\n",
       " False,\n",
       " False,\n",
       " True,\n",
       " True,\n",
       " True,\n",
       " True,\n",
       " True,\n",
       " True,\n",
       " True,\n",
       " True,\n",
       " True,\n",
       " True,\n",
       " True,\n",
       " True,\n",
       " True,\n",
       " True,\n",
       " True,\n",
       " True,\n",
       " True,\n",
       " True,\n",
       " True,\n",
       " True,\n",
       " True,\n",
       " True,\n",
       " True,\n",
       " True,\n",
       " True,\n",
       " True,\n",
       " True,\n",
       " True,\n",
       " True,\n",
       " True,\n",
       " True,\n",
       " True,\n",
       " True,\n",
       " True,\n",
       " True,\n",
       " True,\n",
       " True,\n",
       " True,\n",
       " True,\n",
       " True,\n",
       " True,\n",
       " True,\n",
       " True,\n",
       " True,\n",
       " True,\n",
       " True,\n",
       " True,\n",
       " True,\n",
       " True,\n",
       " True,\n",
       " True,\n",
       " True,\n",
       " True,\n",
       " True,\n",
       " True,\n",
       " True,\n",
       " True,\n",
       " True,\n",
       " True,\n",
       " True,\n",
       " True,\n",
       " True,\n",
       " True,\n",
       " True,\n",
       " True,\n",
       " True,\n",
       " True,\n",
       " True,\n",
       " True,\n",
       " True,\n",
       " True,\n",
       " True,\n",
       " True,\n",
       " True,\n",
       " True,\n",
       " True,\n",
       " True,\n",
       " True,\n",
       " True,\n",
       " True,\n",
       " True,\n",
       " False,\n",
       " False,\n",
       " True,\n",
       " True,\n",
       " True,\n",
       " True,\n",
       " False,\n",
       " True,\n",
       " True,\n",
       " True,\n",
       " False,\n",
       " True,\n",
       " True,\n",
       " True,\n",
       " True,\n",
       " True,\n",
       " True,\n",
       " True,\n",
       " True,\n",
       " True,\n",
       " True,\n",
       " True,\n",
       " True,\n",
       " True,\n",
       " True,\n",
       " True,\n",
       " True,\n",
       " True,\n",
       " True,\n",
       " True,\n",
       " True,\n",
       " True,\n",
       " True,\n",
       " True,\n",
       " False,\n",
       " True,\n",
       " True,\n",
       " True,\n",
       " True,\n",
       " True,\n",
       " True,\n",
       " True,\n",
       " False,\n",
       " True,\n",
       " True,\n",
       " True,\n",
       " True,\n",
       " True,\n",
       " True,\n",
       " True,\n",
       " True,\n",
       " True,\n",
       " True,\n",
       " True,\n",
       " True,\n",
       " True,\n",
       " True,\n",
       " True,\n",
       " False,\n",
       " True,\n",
       " True]"
      ]
     },
     "execution_count": 5,
     "metadata": {},
     "output_type": "execute_result"
    }
   ],
   "source": [
    "list(sel.get_support())"
   ]
  },
  {
   "cell_type": "code",
   "execution_count": 6,
   "metadata": {
    "colab": {
     "base_uri": "https://localhost:8080/"
    },
    "id": "96tBK5lBU7ev",
    "outputId": "dad71ebd-2e4a-4cd0-fefa-694484f600e5"
   },
   "outputs": [
    {
     "data": {
      "text/plain": [
       "[909809.7483785483,\n",
       " 208.8158971989076,\n",
       " 2.8881932699556185,\n",
       " 7.320489004283561,\n",
       " 86.61745725511418,\n",
       " 25.65924724942382,\n",
       " 131.57223253672964,\n",
       " 227.9397116710221,\n",
       " 313.6076948242227,\n",
       " 19.286818754804564,\n",
       " 26.281939824591404,\n",
       " 17.265241830723728,\n",
       " 8.311701637927996,\n",
       " 32984198.86101045,\n",
       " 2126043.3424667185,\n",
       " 4507490.409069261,\n",
       " 2249.6547195922,\n",
       " 974.8079246455828,\n",
       " 1603.0129942634196,\n",
       " 30.97534865272938,\n",
       " 33.27364006327841,\n",
       " 441.57831545183956,\n",
       " 278.5789169921517,\n",
       " 12.03604563865652,\n",
       " 49.980973211488966,\n",
       " 190.05348704784367,\n",
       " 0.4614096996326538,\n",
       " 4.9825142559714894,\n",
       " 6.419788645235147,\n",
       " 5.332371515424055,\n",
       " 1.007061136251383,\n",
       " 1.1111593939063544,\n",
       " 1.368116911416873,\n",
       " 128.44765349637763,\n",
       " 1.6713672732722233,\n",
       " 10.295326351943883,\n",
       " 11.32502530691183,\n",
       " 69.48179133914489,\n",
       " 68.05635235184752,\n",
       " 65.75686276277202,\n",
       " 52.72468559024539,\n",
       " 48.441176213956375,\n",
       " 47.3710295874623,\n",
       " 56.47911443932282,\n",
       " 67.7692564686937,\n",
       " 40.71093052337281,\n",
       " 33.95626692614386,\n",
       " 36.82299864542428,\n",
       " 60.64881975087444,\n",
       " 38.57667928001251,\n",
       " 18.63061725350697,\n",
       " 17.1850635891202,\n",
       " 36.04578371218831,\n",
       " 45.207910663015134,\n",
       " 26.223178961067926,\n",
       " 13.664782248178907,\n",
       " 28.987917472156912,\n",
       " 20.812865151024443,\n",
       " 31.837675210326296,\n",
       " 171.3546208856843,\n",
       " 55.375485890308,\n",
       " 168.06103038030898,\n",
       " 138.5225350038468,\n",
       " 67.77333547061542,\n",
       " 211.36576163197856,\n",
       " 122.30501453955189,\n",
       " 40.73928721179965,\n",
       " 14.386828952762766,\n",
       " 168.16197211842376,\n",
       " 20.46124242062933,\n",
       " 23.889551981141796,\n",
       " 78.8954973475163,\n",
       " 2504.0962946675877,\n",
       " 2490.1654886775195,\n",
       " 623.7260747727373,\n",
       " 694.4810736144159,\n",
       " 28.785993891570158,\n",
       " 569.028421446295,\n",
       " 512.8148675836751,\n",
       " 418.51533670113264,\n",
       " 34.89084441163033,\n",
       " 18.103465158647225,\n",
       " 15.756880007223778,\n",
       " 886913.7002826805,\n",
       " 897528.2065127891,\n",
       " 5.326520548977504,\n",
       " 5.037230512556339,\n",
       " 471.62655139363613,\n",
       " 436.81059431133394,\n",
       " 167.83569795208834,\n",
       " 99.21540775191214,\n",
       " 440.225142574808,\n",
       " 169.91100293682254,\n",
       " 229.11884825406028,\n",
       " 263.71454654597153,\n",
       " 142.59702334882246,\n",
       " 198.99294331733503,\n",
       " 144.74843385261624,\n",
       " 28.06228986109071,\n",
       " 1.2631290123371937,\n",
       " 21.93134316258384,\n",
       " 50.460140546363846,\n",
       " 87.53283285473147,\n",
       " 16.995685806029094,\n",
       " 47.08936663900806,\n",
       " 210.9415318311225,\n",
       " 151.27076045689432,\n",
       " 20.681632775980315,\n",
       " 101.4660940362522,\n",
       " 8.52403864218004,\n",
       " 708.7797221228885,\n",
       " 1017.4476659225461,\n",
       " 1342.821086575551,\n",
       " 1350.1852875517998,\n",
       " 875.9231555394194,\n",
       " 326.33702634685505,\n",
       " 56.93350017256931,\n",
       " 459.6220961716994,\n",
       " 115.23709133215378,\n",
       " 108.46655352107582,\n",
       " 6.552661653052567,\n",
       " 1.3993570939847437,\n",
       " 163.59093621816777,\n",
       " 292.7295307671004,\n",
       " 207.4552274225199,\n",
       " 60.768026519244316,\n",
       " 55.64736279901849,\n",
       " 317.1223563412028,\n",
       " 9.130813283918535,\n",
       " 1036.5164897386398,\n",
       " 1220.150814070886,\n",
       " 1081.995590649465,\n",
       " 589.3108038498114,\n",
       " 8190517.194490056,\n",
       " 18748.086292024786,\n",
       " 13521.612631744261,\n",
       " 26530.685853328094,\n",
       " 30141.722832097726,\n",
       " 26007.978348232973,\n",
       " 29461.120175162912,\n",
       " 73335277.47748743,\n",
       " 210.55524036020867,\n",
       " 63.35154956527435,\n",
       " 39.418355080557255,\n",
       " 55.32409547215269,\n",
       " 93.81767729161203,\n",
       " 34.05061494707582,\n",
       " 11.197534773472574,\n",
       " 3.698429117510159,\n",
       " 21.53623962489796,\n",
       " 152.30201860715627,\n",
       " 84.1036066684085,\n",
       " 58.37887994123033,\n",
       " 71.78630968921621,\n",
       " 113.29808213153355,\n",
       " 44.43744118987691,\n",
       " 15.26600706403592,\n",
       " 5.390355065709254,\n",
       " 30.594924014445134,\n",
       " 192.2329868230885,\n",
       " 38.63320674888102,\n",
       " 290.84771493049504,\n",
       " 99.34819365978144,\n",
       " 255.24700647800927,\n",
       " 257.42671074386504,\n",
       " 105.1667856179467,\n",
       " 176.61318355568218,\n",
       " 44.8595606561301,\n",
       " 31.25858601894864,\n",
       " 20.953439686171787,\n",
       " 4.830735397312915,\n",
       " 0.5398626734045712,\n",
       " 0.4837316546842466,\n",
       " 30.170403191715582,\n",
       " 13.599874779404285,\n",
       " 38.88323522413021,\n",
       " 363.187551647234,\n",
       " 45.870291693236595,\n",
       " 43.95763231304108,\n",
       " 28.548757640617783,\n",
       " 302.8059744556547,\n",
       " 185.00100329734954,\n",
       " 214.42708762209213,\n",
       " 188.8379428443627,\n",
       " 224.49146757249343,\n",
       " 188.84907926427502,\n",
       " 268.6306314213229,\n",
       " 298.67867442702936,\n",
       " 946.669299057757,\n",
       " 1999.9334802360615,\n",
       " 85.55272358605774,\n",
       " 67.75645709930335,\n",
       " 50.959593643031596,\n",
       " 6.580033887755593,\n",
       " 30.692894239039152,\n",
       " 32.914482720079484,\n",
       " 0.990029356941326,\n",
       " 3.5542594142759514,\n",
       " 36.33092922141802,\n",
       " 26.0791032512125,\n",
       " 34.3296085550401,\n",
       " 34.51145093112297,\n",
       " 10.3886481968368,\n",
       " 8.880570105775938,\n",
       " 31.03294190174419,\n",
       " 6.056718190413508,\n",
       " 16.99371335465023,\n",
       " 103.36888419944465,\n",
       " 10.25140108072859,\n",
       " 5.454036872530022,\n",
       " 9.59386016719246,\n",
       " 38.17666131062678,\n",
       " 21.72065761447455,\n",
       " 9.449982287396038,\n",
       " 10.415128703653336,\n",
       " 4.977261692894342,\n",
       " 20.21738976054702,\n",
       " 28.76489834159731,\n",
       " 18.960765512081245,\n",
       " 16.673892122164276,\n",
       " 18.21131337603834,\n",
       " 25.652825395550398,\n",
       " 17.321587534651854,\n",
       " 29.93971644811225,\n",
       " 151.31215655722963,\n",
       " 18.966559872953585,\n",
       " 1.0723861883715364,\n",
       " 314.5473688028305,\n",
       " 68.53547552412346,\n",
       " 57.79659911604166,\n",
       " 105.24476170535995,\n",
       " 50.74131889874473,\n",
       " 11.544890216180885,\n",
       " 94.66828947960192,\n",
       " 49.80246624833786,\n",
       " 14.663679673299903,\n",
       " 59.9994775504744,\n",
       " 1.8561772474371123,\n",
       " 40.608694286213,\n",
       " 32.128300061607945,\n",
       " 10.045245931002306,\n",
       " 24.042526021440953,\n",
       " 1.1365611805370122,\n",
       " 27.77762328370799,\n",
       " 109.74000749171378,\n",
       " 2.6908579249470943,\n",
       " 210.07675715730295,\n",
       " 94.65442932201901,\n",
       " 290.76821339697176,\n",
       " 114.78850484089628,\n",
       " 5.26467240483071,\n",
       " 18.223932597457747,\n",
       " 1.8511874568327378,\n",
       " 68.442096450486,\n",
       " 0.5005608786936364,\n",
       " 0.28418201195707066,\n",
       " 11.034099967015756,\n",
       " 6.267927045745221,\n",
       " 4.579123050629762,\n",
       " 8.306603632852438,\n",
       " 0.7505434492570536,\n",
       " 2.0344818076473583,\n",
       " 0.9552619840332038,\n",
       " 1.5966828928319283,\n",
       " 0.15063197079808036,\n",
       " 93.04804492618726,\n",
       " 474.3733977702508,\n",
       " 276.55676928225375,\n",
       " 145.0499108923295,\n",
       " 23.9183281497775,\n",
       " 20.283470438193042,\n",
       " 156.8085462871755,\n",
       " 353.5235301199022,\n",
       " 117.75981020530801,\n",
       " 15.960186391841303,\n",
       " 157.05676475550828,\n",
       " 35.89371979818556,\n",
       " 289.15835086824643,\n",
       " 572.2637747508392,\n",
       " 1026.4106241138381,\n",
       " 1007.8625974869775,\n",
       " 976.0206012806436,\n",
       " 59.14588064671587,\n",
       " 11.630432161476213,\n",
       " 1270.5931538969126,\n",
       " 145.64290306955968,\n",
       " 782.4873883373635,\n",
       " 93.39427220020255,\n",
       " 0.24366421185133524,\n",
       " 108.2238306246863,\n",
       " 810.2647903745049,\n",
       " 713.1018895707764,\n",
       " 1265.9984049531322,\n",
       " 92.65991038484718,\n",
       " 115.33931316697122,\n",
       " 12.467689570407758,\n",
       " 0.7514536651898059,\n",
       " 8.238785688626747,\n",
       " 10.576465802149214,\n",
       " 73.68074952531973,\n",
       " 527.6327424417098,\n",
       " 1.4878606743478935,\n",
       " 20.648023095627913,\n",
       " 14061.15603991666,\n",
       " 73.17599176576506,\n",
       " 20.490350777400852,\n",
       " 77.1618982736264,\n",
       " 628.3852852951669,\n",
       " 194.78548154917564,\n",
       " 60.48248636368808,\n",
       " 115.99162917612279,\n",
       " 3056354531.6834598,\n",
       " 0.24999961761748588,\n",
       " 1.1507784862441486,\n",
       " 351.62019850922127]"
      ]
     },
     "execution_count": 6,
     "metadata": {},
     "output_type": "execute_result"
    }
   ],
   "source": [
    "list(sel.variances_)"
   ]
  },
  {
   "cell_type": "code",
   "execution_count": 7,
   "metadata": {
    "id": "e576L2f5Wee_"
   },
   "outputs": [],
   "source": [
    "my_list_of_tuples = [(index,value) for (index,value) in enumerate(list(sel.variances_)) if value < 0.9]"
   ]
  },
  {
   "cell_type": "code",
   "execution_count": 8,
   "metadata": {
    "colab": {
     "base_uri": "https://localhost:8080/"
    },
    "id": "mhPGwVzmYUxj",
    "outputId": "07e4ff10-c7da-4f24-e6e4-88c663aa4e11"
   },
   "outputs": [
    {
     "data": {
      "text/plain": [
       "['ETH6',\n",
       " 'TPE6',\n",
       " 'TPE7',\n",
       " 'ANC5',\n",
       " 'ANC6',\n",
       " 'ANC11',\n",
       " 'ANC15',\n",
       " 'HC15',\n",
       " 'MHUC2',\n",
       " 'HPHONE_D']"
      ]
     },
     "execution_count": 8,
     "metadata": {},
     "output_type": "execute_result"
    }
   ],
   "source": [
    "cols_nul_variance =  [list(numerical.columns)[index] for index in [x[0] for x in my_list_of_tuples]]\n",
    "cols_nul_variance"
   ]
  },
  {
   "cell_type": "markdown",
   "metadata": {
    "id": "g3ivyDlVZnhH"
   },
   "source": [
    "## Activity 1"
   ]
  },
  {
   "cell_type": "markdown",
   "metadata": {
    "id": "V14l8ZhsZqSx"
   },
   "source": [
    "Fill the missing code:\n"
   ]
  },
  {
   "cell_type": "code",
   "execution_count": 9,
   "metadata": {
    "id": "UHlso-TKZpTF"
   },
   "outputs": [],
   "source": [
    "X = numerical\n",
    "y = targets['TARGET_B']"
   ]
  },
  {
   "cell_type": "code",
   "execution_count": 10,
   "metadata": {
    "colab": {
     "base_uri": "https://localhost:8080/"
    },
    "id": "WafGJUMJal4t",
    "outputId": "160d8d1a-7267-4988-cbfe-1d7bdd071690"
   },
   "outputs": [
    {
     "name": "stdout",
     "output_type": "stream",
     "text": [
      "<class 'pandas.core.frame.DataFrame'>\n",
      "RangeIndex: 95412 entries, 0 to 95411\n",
      "Data columns (total 2 columns):\n",
      " #   Column    Non-Null Count  Dtype  \n",
      "---  ------    --------------  -----  \n",
      " 0   TARGET_B  95412 non-null  int64  \n",
      " 1   TARGET_D  95412 non-null  float64\n",
      "dtypes: float64(1), int64(1)\n",
      "memory usage: 1.5 MB\n"
     ]
    }
   ],
   "source": [
    "targets.info()"
   ]
  },
  {
   "cell_type": "code",
   "execution_count": 11,
   "metadata": {},
   "outputs": [
    {
     "data": {
      "text/html": [
       "<div>\n",
       "<style scoped>\n",
       "    .dataframe tbody tr th:only-of-type {\n",
       "        vertical-align: middle;\n",
       "    }\n",
       "\n",
       "    .dataframe tbody tr th {\n",
       "        vertical-align: top;\n",
       "    }\n",
       "\n",
       "    .dataframe thead th {\n",
       "        text-align: right;\n",
       "    }\n",
       "</style>\n",
       "<table border=\"1\" class=\"dataframe\">\n",
       "  <thead>\n",
       "    <tr style=\"text-align: right;\">\n",
       "      <th></th>\n",
       "      <th>0</th>\n",
       "      <th>1</th>\n",
       "      <th>2</th>\n",
       "      <th>3</th>\n",
       "      <th>4</th>\n",
       "      <th>5</th>\n",
       "      <th>6</th>\n",
       "      <th>7</th>\n",
       "      <th>8</th>\n",
       "      <th>9</th>\n",
       "    </tr>\n",
       "  </thead>\n",
       "  <tbody>\n",
       "    <tr>\n",
       "      <th>0</th>\n",
       "      <td>0.0</td>\n",
       "      <td>992.0</td>\n",
       "      <td>264.0</td>\n",
       "      <td>479.0</td>\n",
       "      <td>635.0</td>\n",
       "      <td>0.0</td>\n",
       "      <td>318.0</td>\n",
       "      <td>12883.0</td>\n",
       "      <td>240.0</td>\n",
       "      <td>95515.0</td>\n",
       "    </tr>\n",
       "    <tr>\n",
       "      <th>1</th>\n",
       "      <td>1.0</td>\n",
       "      <td>3611.0</td>\n",
       "      <td>940.0</td>\n",
       "      <td>5468.0</td>\n",
       "      <td>5218.0</td>\n",
       "      <td>4480.0</td>\n",
       "      <td>1096.0</td>\n",
       "      <td>36175.0</td>\n",
       "      <td>47.0</td>\n",
       "      <td>148535.0</td>\n",
       "    </tr>\n",
       "    <tr>\n",
       "      <th>2</th>\n",
       "      <td>1.0</td>\n",
       "      <td>7001.0</td>\n",
       "      <td>2040.0</td>\n",
       "      <td>497.0</td>\n",
       "      <td>546.0</td>\n",
       "      <td>0.0</td>\n",
       "      <td>292.0</td>\n",
       "      <td>11576.0</td>\n",
       "      <td>202.0</td>\n",
       "      <td>15078.0</td>\n",
       "    </tr>\n",
       "    <tr>\n",
       "      <th>3</th>\n",
       "      <td>0.0</td>\n",
       "      <td>640.0</td>\n",
       "      <td>160.0</td>\n",
       "      <td>1000.0</td>\n",
       "      <td>1263.0</td>\n",
       "      <td>9340.0</td>\n",
       "      <td>388.0</td>\n",
       "      <td>15130.0</td>\n",
       "      <td>109.0</td>\n",
       "      <td>172556.0</td>\n",
       "    </tr>\n",
       "    <tr>\n",
       "      <th>4</th>\n",
       "      <td>0.0</td>\n",
       "      <td>2520.0</td>\n",
       "      <td>627.0</td>\n",
       "      <td>576.0</td>\n",
       "      <td>594.0</td>\n",
       "      <td>5000.0</td>\n",
       "      <td>250.0</td>\n",
       "      <td>9836.0</td>\n",
       "      <td>254.0</td>\n",
       "      <td>7112.0</td>\n",
       "    </tr>\n",
       "  </tbody>\n",
       "</table>\n",
       "</div>"
      ],
      "text/plain": [
       "     0       1       2       3       4       5       6        7      8  \\\n",
       "0  0.0   992.0   264.0   479.0   635.0     0.0   318.0  12883.0  240.0   \n",
       "1  1.0  3611.0   940.0  5468.0  5218.0  4480.0  1096.0  36175.0   47.0   \n",
       "2  1.0  7001.0  2040.0   497.0   546.0     0.0   292.0  11576.0  202.0   \n",
       "3  0.0   640.0   160.0  1000.0  1263.0  9340.0   388.0  15130.0  109.0   \n",
       "4  0.0  2520.0   627.0   576.0   594.0  5000.0   250.0   9836.0  254.0   \n",
       "\n",
       "          9  \n",
       "0   95515.0  \n",
       "1  148535.0  \n",
       "2   15078.0  \n",
       "3  172556.0  \n",
       "4    7112.0  "
      ]
     },
     "execution_count": 11,
     "metadata": {},
     "output_type": "execute_result"
    }
   ],
   "source": [
    "from sklearn.feature_selection import SelectKBest\n",
    "from sklearn.feature_selection import chi2\n",
    "kbest = SelectKBest(chi2, k=10).fit_transform(X, y)\n",
    "# Here we chose 10 so that is easier to analyze results later, as we will see\n",
    "selected = pd.DataFrame(kbest)\n",
    "selected.head()"
   ]
  },
  {
   "cell_type": "code",
   "execution_count": 12,
   "metadata": {
    "colab": {
     "base_uri": "https://localhost:8080/"
    },
    "id": "hXPQHBa7bXkA",
    "outputId": "9981655a-b3f3-4057-fbd7-3be1d806c3e1",
    "scrolled": true
   },
   "outputs": [
    {
     "name": "stdout",
     "output_type": "stream",
     "text": [
      "             score    Column\n",
      "311  527716.426176  CONTROLN\n",
      "140  187983.976667       IC5\n",
      "83    49855.611718       HV1\n",
      "84    49561.067003       HV2\n",
      "0     39087.069814     TCODE\n",
      "133   26891.429352       MSA\n",
      "13    17167.230879    POP901\n",
      "137    2921.367106       IC2\n",
      "14     2811.233301    POP902\n",
      "303    2756.199364  RAMNTALL\n",
      "\n",
      "311    CONTROLN\n",
      "140         IC5\n",
      "83          HV1\n",
      "84          HV2\n",
      "0         TCODE\n",
      "133         MSA\n",
      "13       POP901\n",
      "137         IC2\n",
      "14       POP902\n",
      "303    RAMNTALL\n",
      "Name: Column, dtype: object\n"
     ]
    }
   ],
   "source": [
    "# To check the scores\n",
    "model = SelectKBest(chi2, k=10).fit(X, y)\n",
    "df =pd.DataFrame(data = model.scores_, columns = ['score'])\n",
    "df['Column'] = numerical.columns\n",
    "# Sorting data\n",
    "print(df.sort_values(by = ['score'], ascending = False).head(10))\n",
    "print()\n",
    "\n",
    "# Just to check the columns, we can use the following code\n",
    "cols = df.sort_values(by = ['score'], ascending = False).head(10)['Column']\n",
    "print(cols)"
   ]
  },
  {
   "cell_type": "markdown",
   "metadata": {
    "id": "JJpBT_1eeuiB"
   },
   "source": [
    "# Lesson 2"
   ]
  },
  {
   "cell_type": "markdown",
   "metadata": {
    "id": "XDhkY1ouexCu"
   },
   "source": [
    "## Recursive feature elimination"
   ]
  },
  {
   "cell_type": "code",
   "execution_count": 13,
   "metadata": {
    "colab": {
     "base_uri": "https://localhost:8080/"
    },
    "id": "gJ8_vRLDfiv-",
    "outputId": "78a7e906-882d-4ee0-cd81-c6219e573904"
   },
   "outputs": [
    {
     "data": {
      "text/plain": [
       "RFE(estimator=LinearRegression(), n_features_to_select=20, verbose=False)"
      ]
     },
     "execution_count": 13,
     "metadata": {},
     "output_type": "execute_result"
    }
   ],
   "source": [
    "from sklearn.feature_selection import RFE\n",
    "from sklearn import linear_model\n",
    "\n",
    "# We can use any model, LM, K-NN,...\n",
    "# For classification problems, the metric used to compare models is Accuracy\n",
    "# For regression problems, the metric used to compare models is RMSE\n",
    "lm = linear_model.LinearRegression()\n",
    "rfe = RFE(lm, n_features_to_select=20, verbose=False)\n",
    "rfe.fit(X, y)"
   ]
  },
  {
   "cell_type": "code",
   "execution_count": 14,
   "metadata": {
    "colab": {
     "base_uri": "https://localhost:8080/",
     "height": 639
    },
    "id": "icriBMIfmw21",
    "outputId": "1a205e76-f0e5-4092-f229-ab16f2b5862a"
   },
   "outputs": [
    {
     "data": {
      "text/html": [
       "<div>\n",
       "<style scoped>\n",
       "    .dataframe tbody tr th:only-of-type {\n",
       "        vertical-align: middle;\n",
       "    }\n",
       "\n",
       "    .dataframe tbody tr th {\n",
       "        vertical-align: top;\n",
       "    }\n",
       "\n",
       "    .dataframe thead th {\n",
       "        text-align: right;\n",
       "    }\n",
       "</style>\n",
       "<table border=\"1\" class=\"dataframe\">\n",
       "  <thead>\n",
       "    <tr style=\"text-align: right;\">\n",
       "      <th></th>\n",
       "      <th>Rank</th>\n",
       "      <th>Column_name</th>\n",
       "    </tr>\n",
       "  </thead>\n",
       "  <tbody>\n",
       "    <tr>\n",
       "      <th>2</th>\n",
       "      <td>1</td>\n",
       "      <td>INCOME</td>\n",
       "    </tr>\n",
       "    <tr>\n",
       "      <th>16</th>\n",
       "      <td>1</td>\n",
       "      <td>POP90C1</td>\n",
       "    </tr>\n",
       "    <tr>\n",
       "      <th>17</th>\n",
       "      <td>1</td>\n",
       "      <td>POP90C2</td>\n",
       "    </tr>\n",
       "    <tr>\n",
       "      <th>18</th>\n",
       "      <td>1</td>\n",
       "      <td>POP90C3</td>\n",
       "    </tr>\n",
       "    <tr>\n",
       "      <th>30</th>\n",
       "      <td>1</td>\n",
       "      <td>ETH10</td>\n",
       "    </tr>\n",
       "    <tr>\n",
       "      <th>76</th>\n",
       "      <td>1</td>\n",
       "      <td>DW3</td>\n",
       "    </tr>\n",
       "    <tr>\n",
       "      <th>77</th>\n",
       "      <td>1</td>\n",
       "      <td>DW4</td>\n",
       "    </tr>\n",
       "    <tr>\n",
       "      <th>78</th>\n",
       "      <td>1</td>\n",
       "      <td>DW5</td>\n",
       "    </tr>\n",
       "    <tr>\n",
       "      <th>121</th>\n",
       "      <td>1</td>\n",
       "      <td>RHP4</td>\n",
       "    </tr>\n",
       "    <tr>\n",
       "      <th>122</th>\n",
       "      <td>1</td>\n",
       "      <td>HUPA1</td>\n",
       "    </tr>\n",
       "    <tr>\n",
       "      <th>123</th>\n",
       "      <td>1</td>\n",
       "      <td>HUPA2</td>\n",
       "    </tr>\n",
       "    <tr>\n",
       "      <th>163</th>\n",
       "      <td>1</td>\n",
       "      <td>MC1</td>\n",
       "    </tr>\n",
       "    <tr>\n",
       "      <th>164</th>\n",
       "      <td>1</td>\n",
       "      <td>MC2</td>\n",
       "    </tr>\n",
       "    <tr>\n",
       "      <th>168</th>\n",
       "      <td>1</td>\n",
       "      <td>TPE3</td>\n",
       "    </tr>\n",
       "    <tr>\n",
       "      <th>169</th>\n",
       "      <td>1</td>\n",
       "      <td>TPE4</td>\n",
       "    </tr>\n",
       "    <tr>\n",
       "      <th>170</th>\n",
       "      <td>1</td>\n",
       "      <td>TPE5</td>\n",
       "    </tr>\n",
       "    <tr>\n",
       "      <th>171</th>\n",
       "      <td>1</td>\n",
       "      <td>TPE6</td>\n",
       "    </tr>\n",
       "    <tr>\n",
       "      <th>288</th>\n",
       "      <td>1</td>\n",
       "      <td>HC15</td>\n",
       "    </tr>\n",
       "    <tr>\n",
       "      <th>305</th>\n",
       "      <td>1</td>\n",
       "      <td>CARDGIFT</td>\n",
       "    </tr>\n",
       "    <tr>\n",
       "      <th>313</th>\n",
       "      <td>1</td>\n",
       "      <td>RFA_2F</td>\n",
       "    </tr>\n",
       "  </tbody>\n",
       "</table>\n",
       "</div>"
      ],
      "text/plain": [
       "     Rank Column_name\n",
       "2       1      INCOME\n",
       "16      1     POP90C1\n",
       "17      1     POP90C2\n",
       "18      1     POP90C3\n",
       "30      1       ETH10\n",
       "76      1         DW3\n",
       "77      1         DW4\n",
       "78      1         DW5\n",
       "121     1        RHP4\n",
       "122     1       HUPA1\n",
       "123     1       HUPA2\n",
       "163     1         MC1\n",
       "164     1         MC2\n",
       "168     1        TPE3\n",
       "169     1        TPE4\n",
       "170     1        TPE5\n",
       "171     1        TPE6\n",
       "288     1        HC15\n",
       "305     1    CARDGIFT\n",
       "313     1      RFA_2F"
      ]
     },
     "execution_count": 14,
     "metadata": {},
     "output_type": "execute_result"
    }
   ],
   "source": [
    "# After we run the algorithm, it labels the top features as 1 and the rest are marked in an increasing order of importance. \n",
    "df = pd.DataFrame(data = rfe.ranking_, columns=['Rank'])\n",
    "df['Column_name'] = X.columns\n",
    "df[df['Rank']==1]"
   ]
  },
  {
   "cell_type": "markdown",
   "metadata": {
    "id": "7ZVvA3a3nCHq"
   },
   "source": [
    "## Activity 2"
   ]
  },
  {
   "cell_type": "markdown",
   "metadata": {},
   "source": [
    "While both methods are used for reducing the number of features in a dataset, there is an important difference.\n",
    "Feature selection is simply selecting and excluding given features without changing them.\n",
    "Dimensionality reduction transforms features into a lower dimension."
   ]
  },
  {
   "cell_type": "markdown",
   "metadata": {
    "id": "b7jFJA6VnZ0i"
   },
   "source": [
    "# Lesson 3"
   ]
  },
  {
   "cell_type": "markdown",
   "metadata": {
    "id": "-W8u4ReQDXlK"
   },
   "source": [
    "# Lesson 4"
   ]
  },
  {
   "cell_type": "markdown",
   "metadata": {
    "id": "wmjHye95DZkV"
   },
   "source": [
    "## Hypothesis testing"
   ]
  },
  {
   "cell_type": "markdown",
   "metadata": {
    "id": "8DuoMmAOLWYS"
   },
   "source": [
    "We want to test if our the **sample mean** is not equal to the **population mean** = 80.94. We also know that our **sample** has a size of 25 individuals.\n",
    "\n",
    "$t = \\frac{(\\bar{X}-\\mu)}{\\hat{\\sigma}/\\sqrt{n}}$\n",
    "\n",
    "where:\n",
    "\n",
    "* $\\bar{X}$ is the **sample mean**\n",
    "* $\\mu$ is the **population mean**\n",
    "* $\\hat{\\sigma}$ is the **sample standard deviation**\n",
    "* $n$ is the number of measures in our sample"
   ]
  },
  {
   "cell_type": "code",
   "execution_count": 15,
   "metadata": {
    "colab": {
     "base_uri": "https://localhost:8080/"
    },
    "id": "UzOQzuSaDcnm",
    "outputId": "22f07658-26cb-440b-be39-d54f84fb78f3"
   },
   "outputs": [
    {
     "name": "stdout",
     "output_type": "stream",
     "text": [
      "Statistic is:  -1.750000000000001\n"
     ]
    }
   ],
   "source": [
    "import math\n",
    "\n",
    "sample_mean = 80.94\n",
    "pop_mean = 85\n",
    "sample_std = 11.6\n",
    "n = 25\n",
    "statistic = (sample_mean - pop_mean)/(sample_std/math.sqrt(n))\n",
    "print(\"Statistic is: \", statistic)"
   ]
  },
  {
   "cell_type": "code",
   "execution_count": 16,
   "metadata": {
    "colab": {
     "base_uri": "https://localhost:8080/"
    },
    "id": "08EtnPB5HymX",
    "outputId": "677fe1a6-3d34-477f-e026-6827a8c4b8bc"
   },
   "outputs": [
    {
     "name": "stdout",
     "output_type": "stream",
     "text": [
      "The t-statistic for the sample 0 is: -3.4284294948596377\n",
      "The t-statistic for the sample 1 is: -1.509158531895055\n",
      "The t-statistic for the sample 2 is: -2.8013761371641563\n",
      "The t-statistic for the sample 3 is: -1.172859692101228\n",
      "The t-statistic for the sample 4 is: -2.8859289922906903\n",
      "The t-statistic for the sample 5 is: -3.4991171944791604\n",
      "The t-statistic for the sample 6 is: -0.07494189415869\n",
      "The t-statistic for the sample 7 is: -1.5597905329045525\n",
      "The t-statistic for the sample 8 is: -3.1097582238639383\n",
      "The t-statistic for the sample 9 is: -3.398390852679428\n"
     ]
    }
   ],
   "source": [
    "from scipy import stats\n",
    "from numpy.random import normal\n",
    "\n",
    "\n",
    "samples = {}\n",
    "\n",
    "for i in range(10):\n",
    "    sample_name = \"sample_\" + str(i)\n",
    "    samples[sample_name] = normal(loc = 80.94, scale = 11.6, size = 25)\n",
    "    sample_mean = \"sample_\" + str(i) + \"_mean\"\n",
    "    samples[sample_mean] = np.mean(samples[sample_name])\n",
    "    sample_std = \"sample_\" + str(i) + \"_std\"\n",
    "    samples[sample_std] = np.std(samples[sample_name],ddof=1)\n",
    "    sample_statistic = \"sample_\" + str(i) + \"_t-statistic\"\n",
    "    samples[sample_statistic] = (samples[sample_mean]- pop_mean)/(samples[sample_std]/math.sqrt(n)) \n",
    "    print(\"The t-statistic for the sample {} is: {}\".format(i,samples[sample_statistic]))\n"
   ]
  },
  {
   "cell_type": "markdown",
   "metadata": {
    "id": "UwSj7bGlOCkf"
   },
   "source": [
    "Now that we have the t-statistic for each random sample, let's make the two tails test. Why two tails? Because we are looking what is the probability that we get a **sample mean** which deviates from the **population mean** more than out t-statistic. We don't care if the our **sample mean** is bigger or smaller than the **population mean**.\n",
    "\n",
    "Therefore, we can ask ourselves what is the probability of having a deviation within -t and t.\n"
   ]
  },
  {
   "cell_type": "code",
   "execution_count": 17,
   "metadata": {
    "colab": {
     "base_uri": "https://localhost:8080/"
    },
    "id": "7CU5_N29O06V",
    "outputId": "a87f20ea-607f-46dd-8add-bb127f59646d"
   },
   "outputs": [
    {
     "name": "stdout",
     "output_type": "stream",
     "text": [
      "Assuming a significance level of 0.05\n",
      "\n",
      "The p-value of sample 0 is: 0.0022\n",
      "Therefore we discard the null hypothesis Ho, as it's very unlikely to get sample 0 given Ho.\n",
      "\n",
      "The p-value of sample 1 is: 0.144\n",
      "\n",
      "The p-value of sample 2 is: 0.0099\n",
      "Therefore we discard the null hypothesis Ho, as it's very unlikely to get sample 2 given Ho.\n",
      "\n",
      "The p-value of sample 3 is: 0.252\n",
      "\n",
      "The p-value of sample 4 is: 0.00812\n",
      "Therefore we discard the null hypothesis Ho, as it's very unlikely to get sample 4 given Ho.\n",
      "\n",
      "The p-value of sample 5 is: 0.00185\n",
      "Therefore we discard the null hypothesis Ho, as it's very unlikely to get sample 5 given Ho.\n",
      "\n",
      "The p-value of sample 6 is: 0.941\n",
      "\n",
      "The p-value of sample 7 is: 0.132\n",
      "\n",
      "The p-value of sample 8 is: 0.00477\n",
      "Therefore we discard the null hypothesis Ho, as it's very unlikely to get sample 8 given Ho.\n",
      "\n",
      "The p-value of sample 9 is: 0.00237\n",
      "Therefore we discard the null hypothesis Ho, as it's very unlikely to get sample 9 given Ho.\n",
      "\n"
     ]
    }
   ],
   "source": [
    "print(\"Assuming a significance level of 0.05\")\n",
    "print()\n",
    "\n",
    "for i in range(10):\n",
    "    sample_name = \"sample_\" + str(i)\n",
    "    print(\"The p-value of sample {} is: {:-5.3}\".format(i,stats.ttest_1samp(samples[sample_name],85)[1]))\n",
    "    if ( stats.ttest_1samp(samples[sample_name],85)[1] < 0.05 ):\n",
    "        print(\"Therefore we discard the null hypothesis Ho, as it's very unlikely to get sample {} given Ho.\".format(i))\n",
    "    print()"
   ]
  },
  {
   "cell_type": "markdown",
   "metadata": {},
   "source": [
    "### Lab | Inferential statistics"
   ]
  },
  {
   "cell_type": "code",
   "execution_count": 18,
   "metadata": {},
   "outputs": [
    {
     "name": "stdout",
     "output_type": "stream",
     "text": [
      "Statistic is:  4.761904761904759\n"
     ]
    }
   ],
   "source": [
    "import math\n",
    "\n",
    "sample_mean = 130.1\n",
    "pop_mean = 120\n",
    "sample_std = 21.21\n",
    "n = 100\n",
    "statistic = (sample_mean - pop_mean)/(sample_std/math.sqrt(n))\n",
    "print(\"Statistic is: \", statistic)"
   ]
  },
  {
   "cell_type": "code",
   "execution_count": 19,
   "metadata": {},
   "outputs": [
    {
     "name": "stdout",
     "output_type": "stream",
     "text": [
      "The t-statistic for the sample 0 is: -31.88633545826595\n",
      "The t-statistic for the sample 1 is: -29.558989440375488\n",
      "The t-statistic for the sample 2 is: -43.63272360454621\n",
      "The t-statistic for the sample 3 is: -30.752294028708775\n",
      "The t-statistic for the sample 4 is: -40.54306209979111\n",
      "The t-statistic for the sample 5 is: -37.08645557710017\n",
      "The t-statistic for the sample 6 is: -39.01222132174635\n",
      "The t-statistic for the sample 7 is: -36.60695059651024\n",
      "The t-statistic for the sample 8 is: -39.113317241056954\n",
      "The t-statistic for the sample 9 is: -40.19640223285329\n"
     ]
    }
   ],
   "source": [
    "from scipy import stats\n",
    "from numpy.random import normal\n",
    "\n",
    "\n",
    "samples = {}\n",
    "\n",
    "for i in range(10):\n",
    "    sample_name = \"sample_\" + str(i)\n",
    "    samples[sample_name] = normal(loc = 80.94, scale = 11.6, size = 25)\n",
    "    sample_mean = \"sample_\" + str(i) + \"_mean\"\n",
    "    samples[sample_mean] = np.mean(samples[sample_name])\n",
    "    sample_std = \"sample_\" + str(i) + \"_std\"\n",
    "    samples[sample_std] = np.std(samples[sample_name],ddof=1)\n",
    "    sample_statistic = \"sample_\" + str(i) + \"_t-statistic\"\n",
    "    samples[sample_statistic] = (samples[sample_mean]- pop_mean)/(samples[sample_std]/math.sqrt(n)) \n",
    "    print(\"The t-statistic for the sample {} is: {}\".format(i,samples[sample_statistic]))"
   ]
  },
  {
   "cell_type": "code",
   "execution_count": 20,
   "metadata": {},
   "outputs": [
    {
     "name": "stdout",
     "output_type": "stream",
     "text": [
      "Assuming a significance level of 0.05\n",
      "\n",
      "The p-value of sample 0 is: 0.539\n",
      "\n",
      "The p-value of sample 1 is: 0.0609\n",
      "\n",
      "The p-value of sample 2 is: 0.00802\n",
      "Therefore we discard the null hypothesis Ho, as it's very unlikely to get sample 2 given Ho.\n",
      "\n",
      "The p-value of sample 3 is: 0.0124\n",
      "Therefore we discard the null hypothesis Ho, as it's very unlikely to get sample 3 given Ho.\n",
      "\n",
      "The p-value of sample 4 is: 0.0197\n",
      "Therefore we discard the null hypothesis Ho, as it's very unlikely to get sample 4 given Ho.\n",
      "\n",
      "The p-value of sample 5 is: 0.0255\n",
      "Therefore we discard the null hypothesis Ho, as it's very unlikely to get sample 5 given Ho.\n",
      "\n",
      "The p-value of sample 6 is: 0.00116\n",
      "Therefore we discard the null hypothesis Ho, as it's very unlikely to get sample 6 given Ho.\n",
      "\n",
      "The p-value of sample 7 is: 0.341\n",
      "\n",
      "The p-value of sample 8 is: 0.0227\n",
      "Therefore we discard the null hypothesis Ho, as it's very unlikely to get sample 8 given Ho.\n",
      "\n",
      "The p-value of sample 9 is: 0.0249\n",
      "Therefore we discard the null hypothesis Ho, as it's very unlikely to get sample 9 given Ho.\n",
      "\n"
     ]
    }
   ],
   "source": [
    "print(\"Assuming a significance level of 0.05\")\n",
    "print()\n",
    "\n",
    "for i in range(10):\n",
    "    sample_name = \"sample_\" + str(i)\n",
    "    print(\"The p-value of sample {} is: {:-5.3}\".format(i,stats.ttest_1samp(samples[sample_name],85)[1]))\n",
    "    if ( stats.ttest_1samp(samples[sample_name],85)[1] < 0.05 ):\n",
    "        print(\"Therefore we discard the null hypothesis Ho, as it's very unlikely to get sample {} given Ho.\".format(i))\n",
    "    print()"
   ]
  }
 ],
 "metadata": {
  "colab": {
   "name": "Morning.ipynb",
   "provenance": [],
   "toc_visible": true
  },
  "kernelspec": {
   "display_name": "Python 3",
   "language": "python",
   "name": "python3"
  },
  "language_info": {
   "codemirror_mode": {
    "name": "ipython",
    "version": 3
   },
   "file_extension": ".py",
   "mimetype": "text/x-python",
   "name": "python",
   "nbconvert_exporter": "python",
   "pygments_lexer": "ipython3",
   "version": "3.8.3"
  }
 },
 "nbformat": 4,
 "nbformat_minor": 1
}
